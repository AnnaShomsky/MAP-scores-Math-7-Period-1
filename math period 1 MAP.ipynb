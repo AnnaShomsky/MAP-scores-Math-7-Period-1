{
 "cells": [
  {
   "cell_type": "code",
   "execution_count": 76,
   "id": "d37b22e7",
   "metadata": {},
   "outputs": [],
   "source": [
    "import pandas as pd\n",
    "import numpy as np\n",
    "import matplotlib.pyplot as plt"
   ]
  },
  {
   "cell_type": "code",
   "execution_count": 148,
   "id": "42bcad0c",
   "metadata": {},
   "outputs": [
    {
     "data": {
      "text/html": [
       "<div>\n",
       "<style scoped>\n",
       "    .dataframe tbody tr th:only-of-type {\n",
       "        vertical-align: middle;\n",
       "    }\n",
       "\n",
       "    .dataframe tbody tr th {\n",
       "        vertical-align: top;\n",
       "    }\n",
       "\n",
       "    .dataframe thead th {\n",
       "        text-align: right;\n",
       "    }\n",
       "</style>\n",
       "<table border=\"1\" class=\"dataframe\">\n",
       "  <thead>\n",
       "    <tr style=\"text-align: right;\">\n",
       "      <th></th>\n",
       "      <th>Codename</th>\n",
       "      <th>fall score</th>\n",
       "      <th>winter score</th>\n",
       "      <th>spring score</th>\n",
       "      <th>observed growth</th>\n",
       "    </tr>\n",
       "  </thead>\n",
       "  <tbody>\n",
       "    <tr>\n",
       "      <th>0</th>\n",
       "      <td>A</td>\n",
       "      <td>168</td>\n",
       "      <td>188.0</td>\n",
       "      <td>218</td>\n",
       "      <td>50</td>\n",
       "    </tr>\n",
       "    <tr>\n",
       "      <th>1</th>\n",
       "      <td>B</td>\n",
       "      <td>215</td>\n",
       "      <td>235.0</td>\n",
       "      <td>239</td>\n",
       "      <td>24</td>\n",
       "    </tr>\n",
       "    <tr>\n",
       "      <th>2</th>\n",
       "      <td>C</td>\n",
       "      <td>219</td>\n",
       "      <td>222.0</td>\n",
       "      <td>226</td>\n",
       "      <td>7</td>\n",
       "    </tr>\n",
       "    <tr>\n",
       "      <th>3</th>\n",
       "      <td>D</td>\n",
       "      <td>198</td>\n",
       "      <td>201.0</td>\n",
       "      <td>214</td>\n",
       "      <td>16</td>\n",
       "    </tr>\n",
       "    <tr>\n",
       "      <th>4</th>\n",
       "      <td>E</td>\n",
       "      <td>210</td>\n",
       "      <td>207.0</td>\n",
       "      <td>218</td>\n",
       "      <td>8</td>\n",
       "    </tr>\n",
       "    <tr>\n",
       "      <th>5</th>\n",
       "      <td>F</td>\n",
       "      <td>207</td>\n",
       "      <td>212.0</td>\n",
       "      <td>212</td>\n",
       "      <td>5</td>\n",
       "    </tr>\n",
       "    <tr>\n",
       "      <th>6</th>\n",
       "      <td>G</td>\n",
       "      <td>217</td>\n",
       "      <td>221.0</td>\n",
       "      <td>232</td>\n",
       "      <td>15</td>\n",
       "    </tr>\n",
       "    <tr>\n",
       "      <th>7</th>\n",
       "      <td>H</td>\n",
       "      <td>205</td>\n",
       "      <td>207.0</td>\n",
       "      <td>219</td>\n",
       "      <td>14</td>\n",
       "    </tr>\n",
       "    <tr>\n",
       "      <th>8</th>\n",
       "      <td>I</td>\n",
       "      <td>209</td>\n",
       "      <td>211.0</td>\n",
       "      <td>216</td>\n",
       "      <td>7</td>\n",
       "    </tr>\n",
       "    <tr>\n",
       "      <th>9</th>\n",
       "      <td>J</td>\n",
       "      <td>222</td>\n",
       "      <td>231.0</td>\n",
       "      <td>234</td>\n",
       "      <td>12</td>\n",
       "    </tr>\n",
       "    <tr>\n",
       "      <th>10</th>\n",
       "      <td>K</td>\n",
       "      <td>219</td>\n",
       "      <td>219.0</td>\n",
       "      <td>222</td>\n",
       "      <td>3</td>\n",
       "    </tr>\n",
       "    <tr>\n",
       "      <th>11</th>\n",
       "      <td>L</td>\n",
       "      <td>199</td>\n",
       "      <td>202.0</td>\n",
       "      <td>203</td>\n",
       "      <td>4</td>\n",
       "    </tr>\n",
       "    <tr>\n",
       "      <th>12</th>\n",
       "      <td>M</td>\n",
       "      <td>228</td>\n",
       "      <td>NaN</td>\n",
       "      <td>229</td>\n",
       "      <td>1</td>\n",
       "    </tr>\n",
       "    <tr>\n",
       "      <th>13</th>\n",
       "      <td>N</td>\n",
       "      <td>213</td>\n",
       "      <td>223.0</td>\n",
       "      <td>226</td>\n",
       "      <td>13</td>\n",
       "    </tr>\n",
       "    <tr>\n",
       "      <th>14</th>\n",
       "      <td>O</td>\n",
       "      <td>220</td>\n",
       "      <td>229.0</td>\n",
       "      <td>235</td>\n",
       "      <td>15</td>\n",
       "    </tr>\n",
       "  </tbody>\n",
       "</table>\n",
       "</div>"
      ],
      "text/plain": [
       "   Codename  fall score  winter score  spring score  observed growth\n",
       "0         A         168         188.0           218               50\n",
       "1         B         215         235.0           239               24\n",
       "2         C         219         222.0           226                7\n",
       "3         D         198         201.0           214               16\n",
       "4         E         210         207.0           218                8\n",
       "5         F         207         212.0           212                5\n",
       "6         G         217         221.0           232               15\n",
       "7         H         205         207.0           219               14\n",
       "8         I         209         211.0           216                7\n",
       "9         J         222         231.0           234               12\n",
       "10        K         219         219.0           222                3\n",
       "11        L         199         202.0           203                4\n",
       "12        M         228           NaN           229                1\n",
       "13        N         213         223.0           226               13\n",
       "14        O         220         229.0           235               15"
      ]
     },
     "execution_count": 148,
     "metadata": {},
     "output_type": "execute_result"
    }
   ],
   "source": [
    "df= pd.read_csv(\"Math 7 Period 1 MAP 2.csv\")\n",
    "df_show= df[[\"Codename\", \"fall score\", \"winter score\",\"spring score\" ,\"observed growth\"]]\n",
    "df_show"
   ]
  },
  {
   "cell_type": "code",
   "execution_count": 149,
   "id": "faf97727",
   "metadata": {},
   "outputs": [
    {
     "name": "stdout",
     "output_type": "stream",
     "text": [
      "Our average score for spring was 222.9\n"
     ]
    }
   ],
   "source": [
    "average_spring= df[\"spring score\"].mean()\n",
    "average_spring= round(average_spring,1)\n",
    "print(\"Our average score for spring was \" + str(average_spring))"
   ]
  },
  {
   "cell_type": "code",
   "execution_count": 100,
   "id": "138bc9d9",
   "metadata": {},
   "outputs": [
    {
     "name": "stdout",
     "output_type": "stream",
     "text": [
      "On average, our yearly growth was 12.9 points\n"
     ]
    }
   ],
   "source": [
    "average_growth = df[\"observed growth\"].mean()\n",
    "average_growth = round(average_growth,1)\n",
    "print(\"On average, our yearly growth was \" + str(average_growth) + \" points\")"
   ]
  },
  {
   "cell_type": "code",
   "execution_count": 101,
   "id": "f5d7cedd",
   "metadata": {},
   "outputs": [
    {
     "name": "stdout",
     "output_type": "stream",
     "text": [
      "The max growth was: 50 points. The min growth was: 1 point. That means everybody showed growth.\n"
     ]
    }
   ],
   "source": [
    "max_growth = df[\"observed growth\"].max()\n",
    "\n",
    "\n",
    "min_growth = df[\"observed growth\"].min()\n",
    "print(\"The max growth was: \" +str(max_growth) + \" points. The min growth was: \" + str(min_growth) + \" point. That means everybody showed growth.\")\n",
    "\n"
   ]
  },
  {
   "cell_type": "code",
   "execution_count": 102,
   "id": "1c9b812a",
   "metadata": {},
   "outputs": [
    {
     "name": "stdout",
     "output_type": "stream",
     "text": [
      "They expected us to grow by 6.1 points\n"
     ]
    }
   ],
   "source": [
    "avergae_projected_growth= df[\"projected growth\"].mean()\n",
    "avergae_projected_growth= round(avergae_projected_growth,1)\n",
    "print(\"They expected us to grow by \" + str(avergae_projected_growth) + \" points\")"
   ]
  },
  {
   "cell_type": "code",
   "execution_count": 103,
   "id": "06944326",
   "metadata": {},
   "outputs": [
    {
     "name": "stdout",
     "output_type": "stream",
     "text": [
      "We exceeded expectations by 111.5%. That is more than double the expectation!\n"
     ]
    }
   ],
   "source": [
    "percent_exceeded_expectation = round(100*((average_growth-avergae_projected_growth)/avergae_projected_growth),1)\n",
    "print (\"We exceeded expectations by \" + str(percent_exceeded_expectation) + \"%. That is more than double the expectation!\")\n",
    "\n"
   ]
  },
  {
   "cell_type": "code",
   "execution_count": 104,
   "id": "5134bc37",
   "metadata": {},
   "outputs": [],
   "source": [
    "df[\"growth_fall_to_winter\"] = df[\"winter score\"] - df[\"fall score\"]\n",
    "df[\"growth_winter_to_spring\"] = df[\"spring score\"] - df[\"winter score\"]\n"
   ]
  },
  {
   "cell_type": "code",
   "execution_count": 105,
   "id": "0f16a076",
   "metadata": {},
   "outputs": [
    {
     "name": "stdout",
     "output_type": "stream",
     "text": [
      "Our average growth from fall to winter was: 6.2 points\n"
     ]
    }
   ],
   "source": [
    "average_gorwth_fall_to_winter= df[\"growth_fall_to_winter\"].mean()\n",
    "average_gorwth_fall_to_winter= round(average_gorwth_fall_to_winter,1)\n",
    "\n",
    "print(\"Our average growth from fall to winter was: \" + str(average_gorwth_fall_to_winter) + \" points\")"
   ]
  },
  {
   "cell_type": "code",
   "execution_count": 106,
   "id": "cce80b41",
   "metadata": {},
   "outputs": [
    {
     "name": "stdout",
     "output_type": "stream",
     "text": [
      "Our average growth from winter to spring was: 7.6 points\n"
     ]
    }
   ],
   "source": [
    "average_gorwth_winter_to_spring= df[\"growth_winter_to_spring\"].mean()\n",
    "\n",
    "average_gorwth_winter_to_spring = round(average_gorwth_winter_to_spring,1)\n",
    "print (\"Our average growth from winter to spring was: \" + str(average_gorwth_winter_to_spring) + \" points\")"
   ]
  },
  {
   "cell_type": "code",
   "execution_count": 51,
   "id": "1f3f06ce",
   "metadata": {},
   "outputs": [
    {
     "name": "stdout",
     "output_type": "stream",
     "text": [
      "From fall to winter, we exceeded growth expectations by 107.14%. That's more than double!\n",
      "We grew 2.1 times the expectation!\n"
     ]
    }
   ],
   "source": [
    "growth_percent__above_expectations_fall_to_winter = round(100*((average_gorwth_fall_to_winter-3)/3),2)\n",
    "print(\"From fall to winter, we exceeded growth expectations by \" + str(growth_percent__above_expectations_fall_to_winter) + \"%. That's more than double!\")\n",
    "\n",
    "ratio_growth = round((average_gorwth_fall_to_winter/3),1)\n",
    "print(\"We grew \" + str(ratio_growth)+ \" times the expectation!\")"
   ]
  },
  {
   "cell_type": "code",
   "execution_count": 107,
   "id": "0db271b0",
   "metadata": {},
   "outputs": [
    {
     "name": "stdout",
     "output_type": "stream",
     "text": [
      "From winter to spring, we exceeded growth expectations by 153.33%. That's more than 2 and a half times the expectation!\n",
      "If we write it as a ratio, We grew 2.53 times what was expected.\n"
     ]
    }
   ],
   "source": [
    "\n",
    "\n",
    "growth_percent__above_expectations_winter_to_spring = round(100*((average_gorwth_winter_to_spring-3)/3),2)\n",
    "print(\"From winter to spring, we exceeded growth expectations by \" + str(growth_percent__above_expectations_winter_to_spring) + \"%. That's more than 2 and a half times the expectation!\")\n",
    "ratio_growth= round((average_gorwth_winter_to_spring/3),2)\n",
    "print(\"If we write it as a ratio, We grew \" + str (ratio_growth) + \" times what was expected.\")\n"
   ]
  },
  {
   "cell_type": "markdown",
   "id": "e30be755",
   "metadata": {},
   "source": [
    "### Great work everyone!"
   ]
  },
  {
   "cell_type": "code",
   "execution_count": 109,
   "id": "f66c9644",
   "metadata": {},
   "outputs": [
    {
     "data": {
      "text/html": [
       "<div>\n",
       "<style scoped>\n",
       "    .dataframe tbody tr th:only-of-type {\n",
       "        vertical-align: middle;\n",
       "    }\n",
       "\n",
       "    .dataframe tbody tr th {\n",
       "        vertical-align: top;\n",
       "    }\n",
       "\n",
       "    .dataframe thead th {\n",
       "        text-align: right;\n",
       "    }\n",
       "</style>\n",
       "<table border=\"1\" class=\"dataframe\">\n",
       "  <thead>\n",
       "    <tr style=\"text-align: right;\">\n",
       "      <th></th>\n",
       "      <th>Codename</th>\n",
       "      <th>fall score</th>\n",
       "      <th>winter score</th>\n",
       "      <th>spring score</th>\n",
       "      <th>observed growth</th>\n",
       "    </tr>\n",
       "  </thead>\n",
       "  <tbody>\n",
       "    <tr>\n",
       "      <th>12</th>\n",
       "      <td>M</td>\n",
       "      <td>228</td>\n",
       "      <td>NaN</td>\n",
       "      <td>229</td>\n",
       "      <td>1</td>\n",
       "    </tr>\n",
       "    <tr>\n",
       "      <th>10</th>\n",
       "      <td>K</td>\n",
       "      <td>219</td>\n",
       "      <td>219.0</td>\n",
       "      <td>222</td>\n",
       "      <td>3</td>\n",
       "    </tr>\n",
       "    <tr>\n",
       "      <th>11</th>\n",
       "      <td>L</td>\n",
       "      <td>199</td>\n",
       "      <td>202.0</td>\n",
       "      <td>203</td>\n",
       "      <td>4</td>\n",
       "    </tr>\n",
       "    <tr>\n",
       "      <th>5</th>\n",
       "      <td>F</td>\n",
       "      <td>207</td>\n",
       "      <td>212.0</td>\n",
       "      <td>212</td>\n",
       "      <td>5</td>\n",
       "    </tr>\n",
       "    <tr>\n",
       "      <th>2</th>\n",
       "      <td>C</td>\n",
       "      <td>219</td>\n",
       "      <td>222.0</td>\n",
       "      <td>226</td>\n",
       "      <td>7</td>\n",
       "    </tr>\n",
       "    <tr>\n",
       "      <th>8</th>\n",
       "      <td>I</td>\n",
       "      <td>209</td>\n",
       "      <td>211.0</td>\n",
       "      <td>216</td>\n",
       "      <td>7</td>\n",
       "    </tr>\n",
       "    <tr>\n",
       "      <th>4</th>\n",
       "      <td>E</td>\n",
       "      <td>210</td>\n",
       "      <td>207.0</td>\n",
       "      <td>218</td>\n",
       "      <td>8</td>\n",
       "    </tr>\n",
       "    <tr>\n",
       "      <th>9</th>\n",
       "      <td>J</td>\n",
       "      <td>222</td>\n",
       "      <td>231.0</td>\n",
       "      <td>234</td>\n",
       "      <td>12</td>\n",
       "    </tr>\n",
       "    <tr>\n",
       "      <th>13</th>\n",
       "      <td>N</td>\n",
       "      <td>213</td>\n",
       "      <td>223.0</td>\n",
       "      <td>226</td>\n",
       "      <td>13</td>\n",
       "    </tr>\n",
       "    <tr>\n",
       "      <th>7</th>\n",
       "      <td>H</td>\n",
       "      <td>205</td>\n",
       "      <td>207.0</td>\n",
       "      <td>219</td>\n",
       "      <td>14</td>\n",
       "    </tr>\n",
       "    <tr>\n",
       "      <th>6</th>\n",
       "      <td>G</td>\n",
       "      <td>217</td>\n",
       "      <td>221.0</td>\n",
       "      <td>232</td>\n",
       "      <td>15</td>\n",
       "    </tr>\n",
       "    <tr>\n",
       "      <th>14</th>\n",
       "      <td>O</td>\n",
       "      <td>220</td>\n",
       "      <td>229.0</td>\n",
       "      <td>235</td>\n",
       "      <td>15</td>\n",
       "    </tr>\n",
       "    <tr>\n",
       "      <th>3</th>\n",
       "      <td>D</td>\n",
       "      <td>198</td>\n",
       "      <td>201.0</td>\n",
       "      <td>214</td>\n",
       "      <td>16</td>\n",
       "    </tr>\n",
       "    <tr>\n",
       "      <th>1</th>\n",
       "      <td>B</td>\n",
       "      <td>215</td>\n",
       "      <td>235.0</td>\n",
       "      <td>239</td>\n",
       "      <td>24</td>\n",
       "    </tr>\n",
       "    <tr>\n",
       "      <th>0</th>\n",
       "      <td>A</td>\n",
       "      <td>168</td>\n",
       "      <td>188.0</td>\n",
       "      <td>218</td>\n",
       "      <td>50</td>\n",
       "    </tr>\n",
       "  </tbody>\n",
       "</table>\n",
       "</div>"
      ],
      "text/plain": [
       "   Codename  fall score  winter score  spring score  observed growth\n",
       "12        M         228           NaN           229                1\n",
       "10        K         219         219.0           222                3\n",
       "11        L         199         202.0           203                4\n",
       "5         F         207         212.0           212                5\n",
       "2         C         219         222.0           226                7\n",
       "8         I         209         211.0           216                7\n",
       "4         E         210         207.0           218                8\n",
       "9         J         222         231.0           234               12\n",
       "13        N         213         223.0           226               13\n",
       "7         H         205         207.0           219               14\n",
       "6         G         217         221.0           232               15\n",
       "14        O         220         229.0           235               15\n",
       "3         D         198         201.0           214               16\n",
       "1         B         215         235.0           239               24\n",
       "0         A         168         188.0           218               50"
      ]
     },
     "execution_count": 109,
     "metadata": {},
     "output_type": "execute_result"
    }
   ],
   "source": [
    "df_to_show= df[[\"Codename\",\"fall score\", \"winter score\",\"spring score\" ,\"observed growth\" ]].sort_values(by= \"observed growth\")\n",
    "df_to_show"
   ]
  },
  {
   "cell_type": "code",
   "execution_count": 110,
   "id": "d379889b",
   "metadata": {},
   "outputs": [
    {
     "data": {
      "image/png": "[encoded data removed]",
      "text/plain": [
       "<Figure size 432x288 with 1 Axes>"
      ]
     },
     "metadata": {
      "needs_background": "light"
     },
     "output_type": "display_data"
    }
   ],
   "source": [
    "plt.bar(df[\"Codename\"], df[\"observed growth\"])\n",
    "plt.xlabel(\"student\")\n",
    "plt.ylabel(\"growth\")\n",
    "plt.title (\"Student growth\")\n",
    "\n",
    "plt.show()"
   ]
  },
  {
   "cell_type": "code",
   "execution_count": 112,
   "id": "486fe896",
   "metadata": {},
   "outputs": [
    {
     "data": {
      "image/png": "[encoded data removed]",
      "text/plain": [
       "<Figure size 432x288 with 1 Axes>"
      ]
     },
     "metadata": {
      "needs_background": "light"
     },
     "output_type": "display_data"
    }
   ],
   "source": [
    "plt.bar(df[\"Codename\"], df[\"spring score\"])\n",
    "plt.xlabel(\"student\")\n",
    "plt.ylabel(\"spring score\")\n",
    "plt.title (\"spring scores\")\n",
    "\n",
    "plt.show()"
   ]
  },
  {
   "cell_type": "code",
   "execution_count": 115,
   "id": "43059f61",
   "metadata": {},
   "outputs": [],
   "source": [
    "df[\"projected spring score\"]= df[\"fall score\"] + df[\"projected growth\"]\n"
   ]
  },
  {
   "cell_type": "code",
   "execution_count": 145,
   "id": "9769d4ed",
   "metadata": {},
   "outputs": [
    {
     "data": {
      "image/png": "[encoded data removed]",
      "text/plain": [
       "<Figure size 576x432 with 1 Axes>"
      ]
     },
     "metadata": {
      "needs_background": "light"
     },
     "output_type": "display_data"
    }
   ],
   "source": [
    "\n",
    "plt.bar(df[\"Codename\"], df[\"spring score\"], alpha = 0.6, color = \"blue\", label='spring scores')\n",
    "\n",
    "plt.bar(df[\"Codename\"], df[\"projected spring score\"], alpha = 0.8, color = \"pink\", label= 'expected spring scores')\n",
    "plt.ylim((150,250))\n",
    "\n",
    "plt.title(\"Spring scores compared to expectation\")\n",
    "plt.xlabel(\"Student\")\n",
    "plt.ylabel(\"score\")\n",
    "plt.legend()\n",
    "\n",
    "plt.show()"
   ]
  },
  {
   "cell_type": "code",
   "execution_count": 146,
   "id": "0772e2b5",
   "metadata": {},
   "outputs": [
    {
     "data": {
      "image/png": "[encoded data removed]",
      "text/plain": [
       "<Figure size 576x432 with 1 Axes>"
      ]
     },
     "metadata": {
      "needs_background": "light"
     },
     "output_type": "display_data"
    }
   ],
   "source": [
    "\n",
    "plt.bar(df[\"Codename\"], df[\"spring score\"], alpha = 0.6, color = \"blue\", label='spring scores')\n",
    "\n",
    "plt.bar(df[\"Codename\"], df[\"fall score\"], alpha = 0.8, color = \"pink\", label= 'fall score')\n",
    "plt.ylim((150,250))\n",
    "\n",
    "plt.title(\"Spring scores compared to fall scores\")\n",
    "plt.xlabel(\"Student\")\n",
    "plt.ylabel(\"score\")\n",
    "plt.legend()\n",
    "\n",
    "plt.show()"
   ]
  },
  {
   "cell_type": "code",
   "execution_count": 147,
   "id": "473c1f39",
   "metadata": {},
   "outputs": [
    {
     "data": {
      "image/png": "[encoded data removed]",
      "text/plain": [
       "<Figure size 576x432 with 1 Axes>"
      ]
     },
     "metadata": {
      "needs_background": "light"
     },
     "output_type": "display_data"
    }
   ],
   "source": [
    "\n",
    "plt.bar(df[\"Codename\"], df[\"spring score\"], alpha = 0.6, color = \"blue\", label='spring scores')\n",
    "\n",
    "plt.bar(df[\"Codename\"], df[\"winter score\"], alpha = 0.8, color = \"pink\", label= 'winter score')\n",
    "plt.ylim((150,250))\n",
    "\n",
    "plt.title(\"Spring scores compared to winter scores\")\n",
    "plt.xlabel(\"Student\")\n",
    "plt.ylabel(\"score\")\n",
    "plt.legend()\n",
    "\n",
    "plt.show()"
   ]
  },
  {
   "cell_type": "code",
   "execution_count": null,
   "id": "8ac1da6e",
   "metadata": {},
   "outputs": [],
   "source": []
  }
 ],
 "metadata": {
  "kernelspec": {
   "display_name": "Python 3 (ipykernel)",
   "language": "python",
   "name": "python3"
  },
  "language_info": {
   "codemirror_mode": {
    "name": "ipython",
    "version": 3
   },
   "file_extension": ".py",
   "mimetype": "text/x-python",
   "name": "python",
   "nbconvert_exporter": "python",
   "pygments_lexer": "ipython3",
   "version": "3.9.7"
  }
 },
 "nbformat": 4,
 "nbformat_minor": 5
}
